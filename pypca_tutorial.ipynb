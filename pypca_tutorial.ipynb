{
 "cells": [
  {
   "cell_type": "markdown",
   "metadata": {},
   "source": [
    "# Understanding PCA by Python\n",
    "\n",
    "In the tutorial [\"Principal Component Analysis 4 Dummies: Eigenvectors, Eigenvalues and Dimension Reduction\"](https://georgemdallas.wordpress.com/2013/10/30/principal-component-analysis-4-dummies-eigenvectors-eigenvalues-and-dimension-reduction/), the autors gave us a very intuitive understanding of PCA. In this post, we will use Python to demo their example in a qunatified way.\n",
    "\n",
    "First of all, let's generate an ellipse."
   ]
  },
  {
   "cell_type": "code",
   "execution_count": 1,
   "metadata": {
    "collapsed": false
   },
   "outputs": [
    {
     "data": {
      "image/png": "[encoded data removed]",
      "text/plain": [
       "<matplotlib.figure.Figure at 0x10ba29cd0>"
      ]
     },
     "metadata": {},
     "output_type": "display_data"
    }
   ],
   "source": [
    "%matplotlib inline\n",
    "from numpy.linalg import inv\n",
    "import numpy as np\n",
    "import matplotlib.pyplot as plt\n",
    "\n",
    "def ellipse(t,a,b,alpha=0,center=(0,0)):\n",
    "    \"\"\"function to generate points on a speficied ellipse\"\"\"\n",
    "    rotation = inv([[np.cos(alpha),-np.sin(alpha)],[np.sin(alpha),np.cos(alpha)]])\n",
    "    b = np.array([a*np.cos(t),b*np.sin(t) ])\n",
    "    return np.dot(rotation,b) + np.array(center)\n",
    "\n",
    "\n",
    "a = 1\n",
    "b = 2\n",
    "center = (3,3)\n",
    "alpha = 45 * np.pi / 180.0\n",
    "\n",
    "\n",
    "\n",
    "points = []\n",
    "N = 50\n",
    "ax = plt.subplot(111)\n",
    "\n",
    "for t in np.linspace(0,2 * np.pi, N):\n",
    "    p = ellipse(t,a,b,alpha=alpha,center=center)\n",
    "    points.append(p)\n",
    "    plt.plot(p[0],p[1],'bs')\n",
    "\n",
    "ax.axis('tight')\n",
    "ax.set_aspect('equal')\n",
    "\n",
    "plt.show()"
   ]
  },
  {
   "cell_type": "markdown",
   "metadata": {},
   "source": [
    "The above python program produces an ellipse centered at (3,3). \n",
    "\n",
    "Then, let's get its principle components."
   ]
  },
  {
   "cell_type": "code",
   "execution_count": 2,
   "metadata": {
    "collapsed": false
   },
   "outputs": [
    {
     "name": "stdout",
     "output_type": "stream",
     "text": [
      "[[-0.70710678 -0.70710678]\n",
      " [-0.70710678  0.70710678]]\n"
     ]
    }
   ],
   "source": [
    "covariance = np.cov(np.array(points).transpose())\n",
    "U,s,V = np.linalg.svd(covariance)\n",
    "print(V)"
   ]
  },
  {
   "cell_type": "markdown",
   "metadata": {},
   "source": [
    "We can see the first principle component is $[-0.70710678,-0.70710678]^T$ (i.e., $[1,1]^T$), the direction of 45 degree. And the second one lies at the direction of 135 degree. \n",
    "\n",
    "Let draw them out on the figure."
   ]
  },
  {
   "cell_type": "code",
   "execution_count": 3,
   "metadata": {
    "collapsed": false
   },
   "outputs": [
    {
     "data": {
      "image/png": "[encoded data removed]",
      "text/plain": [
       "<matplotlib.figure.Figure at 0x10ba0f450>"
      ]
     },
     "metadata": {},
     "output_type": "display_data"
    }
   ],
   "source": [
    "ax = plt.subplot(111)\n",
    "for t in np.linspace(0,2 * np.pi, N):\n",
    "    p = ellipse(t,a,b,alpha=alpha,center=center)\n",
    "    points.append(p)\n",
    "    plt.plot(p[0],p[1],'bs')\n",
    "\n",
    "# the first principle component\n",
    "t = np.linspace(-2.2,2.2,200)\n",
    "x = center[0] + t * V[0][0]\n",
    "y = center[1] + t * V[1][0]\n",
    "plt.plot(x,y,'r-')\n",
    "\n",
    "# the second \n",
    "x = center[0] + t * V[0][1]\n",
    "y = center[1] + t * V[1][1]\n",
    "plt.plot(x,y,'y-')\n",
    "\n",
    "ax.axis('tight')\n",
    "ax.set_aspect('equal')\n",
    "plt.show()"
   ]
  }
 ],
 "metadata": {
  "kernelspec": {
   "display_name": "Python 2",
   "language": "python",
   "name": "python2"
  },
  "language_info": {
   "codemirror_mode": {
    "name": "ipython",
    "version": 2
   },
   "file_extension": ".py",
   "mimetype": "text/x-python",
   "name": "python",
   "nbconvert_exporter": "python",
   "pygments_lexer": "ipython2",
   "version": "2.7.10"
  }
 },
 "nbformat": 4,
 "nbformat_minor": 0
}
